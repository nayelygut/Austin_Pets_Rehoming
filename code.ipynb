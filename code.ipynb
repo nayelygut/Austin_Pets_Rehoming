{
 "cells": [
  {
   "cell_type": "code",
   "execution_count": 30,
   "metadata": {},
   "outputs": [],
   "source": [
    "from splinter import Browser\n",
    "from bs4 import BeautifulSoup as soup\n",
    "from webdriver_manager.chrome import ChromeDriverManager"
   ]
  },
  {
   "cell_type": "code",
   "execution_count": 31,
   "metadata": {},
   "outputs": [],
   "source": [
    "# Set up Splinter\n",
    "executable_path = {'executable_path': ChromeDriverManager().install()}\n",
    "browser = Browser('chrome', **executable_path, headless=False)"
   ]
  },
  {
   "cell_type": "code",
   "execution_count": 32,
   "metadata": {},
   "outputs": [],
   "source": [
    "# Visit the Austin Pets Craigslist site\n",
    "url = 'https://austin.craigslist.org/search/pet'\n",
    "browser.visit(url)"
   ]
  },
  {
   "cell_type": "code",
   "execution_count": 33,
   "metadata": {},
   "outputs": [],
   "source": [
    "# Parse the HTML\n",
    "html = browser.html\n",
    "html_soup = soup(html, 'html.parser')"
   ]
  },
  {
   "cell_type": "code",
   "execution_count": 34,
   "metadata": {},
   "outputs": [
    {
     "name": "stdout",
     "output_type": "stream",
     "text": [
      "Rehoming Kane\n",
      "Rehoming 3 African Pygmy Dormice\n",
      "FOUND PUPPY - Male, mixed breed\n",
      "Finches\n",
      "Het Clown Hatchlings\n",
      "Hypo Enchi Champagne\n",
      "Arroyo ball python\n",
      "Amazing, gorgeous kittens to good homes!\n",
      "Get your ESS puppy today!\n",
      "I'm looking to adopt a pug\n",
      "Cat needing new home\n",
      "Belgian Malinois\n",
      "7 week old pittys ready to go to their new homes!\n",
      "Angelfish\n",
      "loving kitten\n",
      "tortieshell kitten\n",
      "NTW Boston Terrier Kid Socks\n",
      "NEW French Bulldog Sheet Set (Queen)\n",
      "Milky MooMoo and Milo Shih tzu mix\n",
      "Sphynx cat / hairless cat\n",
      "Rehoming Male Panther Chameleon\n",
      "Pomeranian x long hair chihuahua tiny puppy\n",
      "one yr - female border collie/lab mix\n",
      "Male sugar glider\n",
      "‼️ ABA Registered American Bully/Pit Bull Puppies ‼️\n",
      "Female Panther Chameleon\n",
      "Found grey kitten\n",
      "Lionhead bunny rabbit\n",
      "Tiny  Chihuahua Puppy\n",
      "Cachorros buscando. Familia\n",
      "Doberman pinscher\n",
      "Toy Aussie\n",
      "Ball Python\n",
      "Scottish Terrier puppies\n",
      "Female Shih Tzus\n",
      "Free flightless fruit fly cultures\n",
      "Rehome English bulldog\n",
      "Rehoming Standard Poodle\n",
      "Pit bull pups\n",
      "Rehoming pit bull puppies\n",
      "Beautiful Cat\n",
      "Rehoming Shihtzu Mix\n",
      "Great Dane Puppies\n",
      "Malinois/Malamute/Very Low Content Hybrid puppies\n",
      "Mini poodle puppy\n",
      "looking small pup ( 4 0 0)\n",
      "Rehoming two one year old Siamese cats\n",
      "AKC Yorkshire Terriers\n",
      "Royal python\n",
      "Livestock Guardian Puppies\n",
      "Red footed tortoise yearling\n",
      "Female Anery Sand Boa\n",
      "Cats looking for a good family\n",
      "Rehoming Beautiful red hound female\n",
      "Beautiful Cat needs to be re-homed.\n",
      "2 Year Old GSD Female\n",
      "CRESTED GECKO - $50 rehoming fee Dark Harlequin Adult Male\n",
      "poodle teacup\n",
      "Lab Collie mixed puppies free\n",
      "re homing saibrian Husky\n",
      "Pitbull mix\n",
      "Husky pup\n",
      "AKC French Bulldog Puppies\n",
      "Rex bunnies\n",
      "maltese puppies\n",
      "Chorkie Puppy\n",
      "Looking for small breed female puppy\n",
      "Sweet Male Guinea Pig\n",
      "FOUND GERMAN SHEPHERD MIX PUPPY\n",
      "Snakes: Boa, Ball Python, Corn\n",
      "African spurred tortoises\n",
      "Looking for home (blue heeler)\n",
      "Phoebe Needs a New LOVING Home\n",
      "Yorkie puppies\n",
      "husky blue heeler puppy\n",
      "Puppy boy\n",
      "Tortie shell Calico\n",
      "Young Cockatiel\n",
      "Akc German Shepherd puppy!\n",
      "Golden Retriever female (rehoming)\n",
      "2 female pitbull puppies\n",
      "Shetland Sheepdog \"Sheltie\"\n",
      "reptile rescue\n",
      "German Shepard and Great Pyrenees mix puppies\n",
      "Border Collie Pups Registered ABCA\n",
      "Sun Conure Bird\n",
      "Cream Labradoodle Green Eyes\n",
      "Brittany Spaniel\n",
      "Bearded dragon\n",
      "Rottweilers\n",
      "Female Panther Chameleon\n",
      "schnauzer puppys\n",
      "Dogo/mastiff pup\n",
      "Looking for a new home\n",
      "Poodle Puppies\n",
      "Dog carrier\n",
      "Beautiful Grey Mixed Lynx point x Bombay kitten\n",
      "Lab Collie mixed puppies\n",
      "Golden Texel Mice\n",
      "Beautiful young chihuahua\n",
      "2x Baby Silvermane Rats (one Dumbo)\n",
      "Quaker parrot\n",
      "Rhodesian Ridgeback puppies\n",
      "Free pitbull 12 month old\n",
      "Long hair Pug\n",
      "Adorable Pit Needs a Loving Home\n",
      "Looking for loving families\n",
      "SHITZU MIX PUPPIES\n",
      "AKC Springer Spaniels\n",
      "4 beautiful american cocker spainel puppies\n",
      "Boy kitten 8 weeks old need home asap\n",
      "2 Black kittens brothers\n",
      "Pair of ringnecks/ cages price dropped\n",
      "Missing Orange Cat - Clem\n",
      "Male bearded dragon\n",
      "Rehoming Dublin\n",
      "German shepherds\n",
      "Springer Spaniels need a loving new home\n",
      "BULLY PUPS\n",
      "HIGHLAND LYNX KITTREN\n"
     ]
    }
   ],
   "source": [
    "# Scrape the Title\n",
    "titles = html_soup.find_all('a',class_=\"result-title hdrlnk\")\n",
    "for title in titles:\n",
    "    print(title.text)\n"
   ]
  },
  {
   "cell_type": "code",
   "execution_count": null,
   "metadata": {},
   "outputs": [],
   "source": []
  },
  {
   "cell_type": "code",
   "execution_count": 35,
   "metadata": {},
   "outputs": [],
   "source": [
    "# <a class= \"result-image gallery\" to scrape only ones that have image\n",
    "# <h3 class=\"result-heading\" for title of post"
   ]
  }
 ],
 "metadata": {
  "interpreter": {
   "hash": "fd763a098ed74b26fb54d2d4ddbf58343cd57368ad26feccf1d53a420650659f"
  },
  "kernelspec": {
   "display_name": "Python 3.7.11 ('mlenv')",
   "language": "python",
   "name": "python3"
  },
  "language_info": {
   "codemirror_mode": {
    "name": "ipython",
    "version": 3
   },
   "file_extension": ".py",
   "mimetype": "text/x-python",
   "name": "python",
   "nbconvert_exporter": "python",
   "pygments_lexer": "ipython3",
   "version": "3.7.11"
  },
  "orig_nbformat": 4
 },
 "nbformat": 4,
 "nbformat_minor": 2
}
