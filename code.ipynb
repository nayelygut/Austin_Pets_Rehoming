{
 "cells": [
  {
   "cell_type": "code",
   "execution_count": 501,
   "metadata": {},
   "outputs": [],
   "source": [
    "from splinter import Browser\n",
    "from bs4 import BeautifulSoup as soup\n",
    "from webdriver_manager.chrome import ChromeDriverManager"
   ]
  },
  {
   "cell_type": "code",
   "execution_count": 502,
   "metadata": {},
   "outputs": [],
   "source": [
    "# Set up Splinter\n",
    "executable_path = {'executable_path': ChromeDriverManager().install()}\n",
    "browser = Browser('chrome', **executable_path, headless=False)"
   ]
  },
  {
   "cell_type": "code",
   "execution_count": 503,
   "metadata": {},
   "outputs": [],
   "source": [
    "# Visit the Austin Pets Craigslist site - rehome search with images only\n",
    "url = 'https://austin.craigslist.org/search/pet?query=rehome&hasPic=1'\n",
    "browser.visit(url)"
   ]
  },
  {
   "cell_type": "code",
   "execution_count": 504,
   "metadata": {},
   "outputs": [],
   "source": [
    "# Parse the HTML\n",
    "html = browser.html\n",
    "html_soup = soup(html, 'html.parser')"
   ]
  },
  {
   "cell_type": "code",
   "execution_count": 505,
   "metadata": {},
   "outputs": [],
   "source": [
    "# Lists to store the scraped data in\n",
    "# code idea from https://www.dataquest.io/blog/web-scraping-beautifulsoup/\n",
    "result_block = html_soup.find_all('li',class_=\"result-row\")\n",
    "titles = []\n",
    "urls = []\n",
    "location = []\n",
    "date = []\n",
    "image = []\n",
    "# Extract data from individual container\n",
    "for result in result_block:\n",
    "    title = result.div.h3.a.text.lower()\n",
    "    # If the post does not have one of the other animals in the title, then extract:\n",
    "    if \"kit\" not in title and \"python\" not in title and \"rat\" not in title and \"cat\" not in title and \"pig\" not in title and \"hedgehog\" not in title and \"bunn\" not in title and \"gecko\" not in title:\n",
    "        titles.append(title)\n",
    "        # The url\n",
    "        url = result.div.h3.a['href']\n",
    "        urls.append(url)\n",
    "       "
   ]
  },
  {
   "cell_type": "code",
   "execution_count": 506,
   "metadata": {},
   "outputs": [
    {
     "data": {
      "text/plain": [
       "175"
      ]
     },
     "execution_count": 506,
     "metadata": {},
     "output_type": "execute_result"
    }
   ],
   "source": [
    "len(titles)"
   ]
  },
  {
   "cell_type": "code",
   "execution_count": 507,
   "metadata": {},
   "outputs": [
    {
     "name": "stdout",
     "output_type": "stream",
     "text": [
      "['rehome english bulldog', 'siberian huskies for rehome', 'rehome', 'mix beagle rehome', 'toy/mini australian shepherd puppies ready to rehome', 'need to rehome', 'mini aussie mix to rehome', 'sweet aussie mix to rehome', 'spayed female needs rehome', '1yr old male chocolate lab', 'akc german shepherd puppy!', 'toy aussie', 'finches', 'angelfish', 'female panther chameleon', 'doberman pinscher', '2 year old gsd female', 'dogo/mastiff pup', 'long hair pug', 'rehoming dublin', 'german shepherds', 'mini australian shepherd puppies', 'bearded dragon with cage and all', 'labradoodle', 'rehoming husky puppy', 'liver miniature schnauzer', 'sasquatch! ...a smart playful dog', 'blue heeler - male - 6 months - beautiful dog', 'male merle french bulldog', 'birds', 'cockatiels male and female', 'chocolate lab mix puppies!', 'aussie doodle mix puppies', 'female standard rex', 'mini female flowered sharpei', 'looking to rehome 1.5 yr old pit mix', 'labradoodle', 'bernefie puppies', 'rehoming dog', 'plumheaded parrots 4 months old plum head parakeet bird', 'maltipoo', 'rehoming yellow male lab', 'husky , german sheperd mix', 'sweet girl needs new home.', 'husky mix pups please help', '50 gallon corner fish tank', 'merle male french bulldog', 'male french bulldog', 'male merle french bulldog', 'handsome male pyrenees needs loving home 💙', '2 puppies to rehome', 'rehome female german shorthaired pointer mix', '4 month old black lab/pyrenese mix', '2 dogs', 'need to rehome beautiful green/blue ignauna about 18\" long now', 'nice dog', 'rehoming 2 female spayed dogs', 'pyrenee male puppy', 'no rehome fee.', 'rehome pit mix pups', 'german shepherd puppy', 'rehoming mixed breed dog', 'free to good home- terrier/mini aussie mix', 'aussie/heeler mix puppy', 'husky/blue heeler needs a new home', 'full bred labrador retriever/golden retriever 10 month old', 'rehoming blue heeler/boxer puppy', '11 year old beagle', 'rehoming our little fella', 'female blue nose pit bull', 'rehoming rosy', 'rehoming female german shorthaired pointer mix', 'looking for good home for boxer pup', 'pure bred yorkie male puppy', 'pug female', 'puppy looking for kids', 'need to rehome my dog', 'rehome halloween pup', 'free puppy for rehome', 'female puppy looking to rehome', 'sweet terrier rehome', 'rehome-red-nose pitbull pups', 'need to rehome small lab mix', 'need to rehome family pet', 'siberian huskies rehome', 'female dalmatians rehome', 'rehome puppies', 'need to rehome kahlo', 'need to rehome', 'young marbled angel fish to rehome', 'electric blue acaras to rehome', 'rehome german shephard', 'white/cream adult, f, pomeranian to rehome', 'husky for rehome', 'french bulldog male rehome', 'blue tri male frenchie to rehome', '3 bullypit pups ready to be rehome', 'saint bernard/newfoundland rehome', 'rehome to a loving family', 'need to rehome lab puppy 14wks old today', 'female spayed needs rehome', 'need to rehome puppy', 'please help rehome my pup! (american staffordshire terrier)', 'belgium malinois 5m 25$ rehome fee', 'deerhead chihuahua puppies', 'toy australian shepherd', 'sweet 8 month old male doodle', 'american fuzzy lops', 'german shepherds', 'two hamsters', '2 dogs great dane and pit', 'min poodle', 'grilled lizard w/cage', '2 boys looking for homes', 'rehoming', 'rehoming male husky', 'full blood male bohemian shepherd', 'shih tzu - yorkie mix', 'weimaraner lab mix', 'little chihuahuas girl', 'nigerian dwarf', 'german shepherd', 'husky puppy', '2 yr old boy siberian husky', 'meet buttons!', '6 year old great dane', 'rehoming two pups', 'lemon beagle', 'shih tzu - yorkie mix', 'male husky', 'rehoming 10 month old great pyrenees', 'oes (bobtail)', 'lionhead pet rabbit needs rehoming', 'lab pups need home', 'green-cheek /sun conure', 'green-cheek /sun conure', 'green-cheek /sun conure', 'green-cheek /sun conure', '2 long hair syrian hamsters with cage/supplies', 'loving dog needs a home', 'german short hair pointer', 'akc make frenchie', 'scarlett macaw for rehome.', 'male boxer puppy - 8 weeks', 'rehoming 12 week old rot/pit pup', 'frenchie french bulldog', 'rehoming 2 large dogs', 'rehoming blue heeler for a adoption fee of $250', 'rehoming great dane puppies', 'akc male australian shepard blue merle 10 months old neutered', 'chihuahuas', 'female chocolate oab', 'english bulldog merle', 'rehoming chesapeake bay retriever/blue heeler', 'rehoming sheep / borrego', '3 mini donkeys', '2 nigerian dwarf goats', 'german shepherd female', 'baby quaker', 'puppy - rehoming', 'daschund puppyy', 'english bulldog- rehoming', 'golden male neuter', 'puppy needs home!!', 'found dog need to rehome', 'labradoodle', 'rehoming dog', 'visual fluffy french bulldog', 'remhoming shih tzu', 'pitbull puppies', 'gsp', 'rehoming bantam roosters', 'rehoming f1b labradoodle', 'pitskys $20', '25 pound chihuahua terrier mix rehoming']\n"
     ]
    }
   ],
   "source": [
    "print(titles)"
   ]
  },
  {
   "cell_type": "code",
   "execution_count": 508,
   "metadata": {},
   "outputs": [
    {
     "name": "stdout",
     "output_type": "stream",
     "text": [
      "['https://austin.craigslist.org/pet/d/new-braunfels-rehome-english-bulldog/7528800826.html', 'https://austin.craigslist.org/pet/d/austin-siberian-huskies-for-rehome/7523390270.html', 'https://austin.craigslist.org/pet/d/austin-rehome/7526178562.html', 'https://austin.craigslist.org/pet/d/austin-mix-beagle-rehome/7519704690.html', 'https://austin.craigslist.org/pet/d/austin-toy-mini-australian-shepherd/7522360780.html', 'https://austin.craigslist.org/pet/d/austin-need-to-rehome/7521855553.html', 'https://austin.craigslist.org/pet/d/bastrop-mini-aussie-mix-to-rehome/7521122389.html', 'https://austin.craigslist.org/pet/d/bastrop-sweet-aussie-mix-to-rehome/7521083920.html', 'https://austin.craigslist.org/pet/d/austin-spayed-female-needs-rehome/7520172579.html', 'https://austin.craigslist.org/pet/d/georgetown-1yr-old-male-chocolate-lab/7529152156.html', 'https://austin.craigslist.org/pet/d/fredericksburg-akc-german-shepherd-puppy/7529123158.html', 'https://austin.craigslist.org/pet/d/temple-toy-aussie/7529104406.html', 'https://austin.craigslist.org/pet/d/round-rock-finches/7527574607.html', 'https://austin.craigslist.org/pet/d/austin-angelfish/7522031613.html', 'https://austin.craigslist.org/pet/d/jarrell-female-panther-chameleon/7528863146.html', 'https://austin.craigslist.org/pet/d/buda-doberman-pinscher/7528848804.html', 'https://austin.craigslist.org/pet/d/austin-year-old-gsd-female/7525228358.html', 'https://austin.craigslist.org/pet/d/waco-dogo-mastiff-pup/7528453280.html', 'https://austin.craigslist.org/pet/d/round-rock-long-hair-pug/7528388980.html', 'https://austin.craigslist.org/pet/d/austin-rehoming-dublin/7528270665.html', 'https://austin.craigslist.org/pet/d/austin-german-shepherds/7528269543.html', 'https://austin.craigslist.org/pet/d/jarrell-mini-australian-shepherd-puppies/7527934654.html', 'https://austin.craigslist.org/pet/d/kempner-bearded-dragon-with-cage-and-all/7527930071.html', 'https://austin.craigslist.org/pet/d/austin-labradoodle/7527894067.html', 'https://austin.craigslist.org/pet/d/hutto-rehoming-husky-puppy/7525358596.html', 'https://austin.craigslist.org/pet/d/austin-liver-miniature-schnauzer/7527661894.html', 'https://austin.craigslist.org/pet/d/temple-sasquatch-smart-playful-dog/7527605623.html', 'https://austin.craigslist.org/pet/d/houston-blue-heeler-male-months/7527214478.html', 'https://austin.craigslist.org/pet/d/leander-male-merle-french-bulldog/7522013624.html', 'https://austin.craigslist.org/pet/d/kyle-birds/7526717836.html', 'https://austin.craigslist.org/pet/d/cedar-creek-cockatiels-male-and-female/7524748565.html', 'https://austin.craigslist.org/pet/d/horseshoe-bay-chocolate-lab-mix-puppies/7515283096.html', 'https://austin.craigslist.org/pet/d/weir-aussie-doodle-mix-puppies/7525740168.html', 'https://austin.craigslist.org/pet/d/georgetown-female-standard-rex/7525239069.html', 'https://austin.craigslist.org/pet/d/kempner-mini-female-flowered-sharpei/7519826465.html', 'https://austin.craigslist.org/pet/d/austin-looking-to-rehome-15-yr-old-pit/7515568668.html', 'https://austin.craigslist.org/pet/d/san-marcos-labradoodle/7524260704.html', 'https://austin.craigslist.org/pet/d/san-antonio-bernefie-puppies/7513658316.html', 'https://austin.craigslist.org/pet/d/round-rock-rehoming-dog/7523765820.html', 'https://austin.craigslist.org/pet/d/austin-plumheaded-parrots-months-old/7523546465.html', 'https://austin.craigslist.org/pet/d/round-rock-maltipoo/7523114064.html', 'https://austin.craigslist.org/pet/d/austin-rehoming-yellow-male-lab/7516794417.html', 'https://austin.craigslist.org/pet/d/hutto-husky-german-sheperd-mix/7522710467.html', 'https://austin.craigslist.org/pet/d/georgetown-sweet-girl-needs-new-home/7512874447.html', 'https://austin.craigslist.org/pet/d/lockhart-husky-mix-pups-please-help/7522370341.html', 'https://austin.craigslist.org/pet/d/rockdale-50-gallon-corner-fish-tank/7522194972.html', 'https://austin.craigslist.org/pet/d/georgetown-merle-male-french-bulldog/7522011615.html', 'https://austin.craigslist.org/pet/d/manor-male-french-bulldog/7522018360.html', 'https://austin.craigslist.org/pet/d/kyle-male-merle-french-bulldog/7522014074.html', 'https://austin.craigslist.org/pet/d/san-antonio-handsome-male-pyrenees/7521872771.html', 'https://austin.craigslist.org/pet/d/round-rock-puppies-to-rehome/7514280376.html', 'https://austin.craigslist.org/pet/d/georgetown-rehome-female-german/7513861972.html', 'https://austin.craigslist.org/pet/d/cedar-creek-month-old-black-lab/7519462317.html', 'https://austin.craigslist.org/pet/d/bertram-dogs/7518073948.html', 'https://austin.craigslist.org/pet/d/austin-need-to-rehome-beautiful-green/7504855594.html', 'https://austin.craigslist.org/pet/d/austin-nice-dog/7517891085.html', 'https://austin.craigslist.org/pet/d/elgin-rehoming-female-spayed-dogs/7517178699.html', 'https://austin.craigslist.org/pet/d/elgin-pyrenee-male-puppy/7517037560.html', 'https://austin.craigslist.org/pet/d/austin-no-rehome-fee/7512829021.html', 'https://austin.craigslist.org/pet/d/wimberley-rehome-pit-mix-pups/7512773597.html', 'https://austin.craigslist.org/pet/d/pflugerville-german-shepherd-puppy/7515481006.html', 'https://austin.craigslist.org/pet/d/austin-rehoming-mixed-breed-dog/7516343609.html', 'https://austin.craigslist.org/pet/d/austin-free-to-good-home-terrier-mini/7515327910.html', 'https://austin.craigslist.org/pet/d/austin-aussie-heeler-mix-puppy/7516127726.html', 'https://austin.craigslist.org/pet/d/austin-husky-blue-heeler-needs-new-home/7516119018.html', 'https://austin.craigslist.org/pet/d/austin-full-bred-labrador-retriever/7520529507.html', 'https://austin.craigslist.org/pet/d/austin-rehoming-blue-heeler-boxer-puppy/7515562472.html', 'https://austin.craigslist.org/pet/d/austin-11-year-old-beagle/7515465263.html', 'https://austin.craigslist.org/pet/d/leander-rehoming-our-little-fella/7507652948.html', 'https://austin.craigslist.org/pet/d/austin-female-blue-nose-pit-bull/7513754617.html', 'https://austin.craigslist.org/pet/d/pflugerville-rehoming-rosy/7513126940.html', 'https://austin.craigslist.org/pet/d/georgetown-rehoming-female-german/7505898870.html', 'https://austin.craigslist.org/pet/d/georgetown-looking-for-good-home-for/7506613117.html', 'https://austin.craigslist.org/pet/d/pure-bred-yorkie-male-puppy/7512225968.html', 'https://austin.craigslist.org/pet/d/smithville-pug-female/7512127882.html', 'https://austin.craigslist.org/pet/d/cedar-creek-puppy-looking-for-kids/7511867535.html', 'https://austin.craigslist.org/pet/d/leander-need-to-rehome-my-dog/7511208743.html', 'https://sanantonio.craigslist.org/pet/d/von-ormy-rehome-halloween-pup/7529238097.html', 'https://killeen.craigslist.org/pet/d/killeen-free-puppy-for-rehome/7529145798.html', 'https://sanantonio.craigslist.org/pet/d/san-antonio-female-puppy-looking-to/7528931551.html', 'https://sanantonio.craigslist.org/pet/d/san-antonio-sweet-terrier-rehome/7528811419.html', 'https://sanantonio.craigslist.org/pet/d/san-antonio-rehome-red-nose-pitbull-pups/7528385891.html', 'https://waco.craigslist.org/pet/d/crawford-need-to-rehome-small-lab-mix/7528013564.html', 'https://sanantonio.craigslist.org/pet/d/san-antonio-need-to-rehome-family-pet/7527842165.html', 'https://sanantonio.craigslist.org/pet/d/new-braunfels-siberian-huskies-rehome/7523530279.html', 'https://sanmarcos.craigslist.org/pet/d/san-marcos-female-dalmatians-rehome/7523322703.html', 'https://sanantonio.craigslist.org/pet/d/san-antonio-rehome-puppies/7527214286.html', 'https://sanmarcos.craigslist.org/pet/d/san-marcos-need-to-rehome-kahlo/7526445221.html', 'https://waco.craigslist.org/pet/d/waco-need-to-rehome/7525377278.html', 'https://killeen.craigslist.org/pet/d/harker-heights-young-marbled-angel-fish/7524328635.html', 'https://killeen.craigslist.org/pet/d/harker-heights-electric-blue-acaras-to/7524326244.html', 'https://killeen.craigslist.org/pet/d/harker-heights-rehome-german-shephard/7524135045.html', 'https://sanantonio.craigslist.org/pet/d/edinburg-white-cream-adult-pomeranian/7524092757.html', 'https://sanantonio.craigslist.org/pet/d/san-antonio-husky-for-rehome/7523692339.html', 'https://sanmarcos.craigslist.org/pet/d/san-marcos-french-bulldog-male-rehome/7522313666.html', 'https://sanantonio.craigslist.org/pet/d/giddings-blue-tri-male-frenchie-to/7522177392.html', 'https://killeen.craigslist.org/pet/d/killeen-bullypit-pups-ready-to-be-rehome/7522104041.html', 'https://killeen.craigslist.org/pet/d/temple-saint-bernard-newfoundland-rehome/7522041177.html', 'https://killeen.craigslist.org/pet/d/killeen-rehome-to-loving-family/7521593582.html', 'https://sanantonio.craigslist.org/pet/d/san-antonio-need-to-rehome-lab-puppy/7520072714.html', 'https://sanmarcos.craigslist.org/pet/d/san-marcos-female-spayed-needs-rehome/7519950220.html', 'https://sanantonio.craigslist.org/pet/d/san-antonio-need-to-rehome-puppy/7519402346.html', 'https://sanantonio.craigslist.org/pet/d/san-antonio-please-help-rehome-my-pup/7517877775.html', 'https://sanantonio.craigslist.org/pet/d/san-antonio-belgium-malinois-5m-25/7518404197.html', 'https://collegestation.craigslist.org/pet/d/bryan-deerhead-chihuahua-puppies/7529170877.html', 'https://killeen.craigslist.org/pet/d/temple-toy-australian-shepherd/7529146899.html', 'https://victoriatx.craigslist.org/pet/d/weesatche-sweet-month-old-male-doodle/7529077007.html', 'https://sanantonio.craigslist.org/pet/d/new-braunfels-american-fuzzy-lops/7528041101.html', 'https://killeen.craigslist.org/pet/d/austin-german-shepherds/7529015779.html', 'https://sanantonio.craigslist.org/pet/d/jbsa-lackland-two-hamsters/7528973976.html', 'https://killeen.craigslist.org/pet/d/belton-dogs-great-dane-and-pit/7527834044.html', 'https://waco.craigslist.org/pet/d/woodway-min-poodle/7528933254.html', 'https://killeen.craigslist.org/pet/d/temple-grilled-lizard-cage/7528876379.html', 'https://sanantonio.craigslist.org/pet/d/san-antonio-boys-looking-for-homes/7527659037.html', 'https://sanantonio.craigslist.org/pet/d/bulverde-rehoming/7528684970.html', 'https://sanantonio.craigslist.org/pet/d/san-antonio-rehoming-male-husky/7528661127.html', 'https://sanantonio.craigslist.org/pet/d/san-antonio-full-blood-male-bohemian/7528474668.html', 'https://sanantonio.craigslist.org/pet/d/san-antonio-shih-tzu-yorkie-mix/7527524093.html', 'https://sanantonio.craigslist.org/pet/d/san-antonio-weimaraner-lab-mix/7518659144.html', 'https://killeen.craigslist.org/pet/d/temple-little-chihuahuas-girl/7526705720.html', 'https://sanantonio.craigslist.org/pet/d/fredericksburg-nigerian-dwarf/7526424677.html', 'https://sanantonio.craigslist.org/pet/d/cibolo-german-shepherd/7528310616.html', 'https://sanantonio.craigslist.org/pet/d/jbsa-lackland-husky-puppy/7528236190.html', 'https://sanantonio.craigslist.org/pet/d/san-antonio-yr-old-boy-siberian-husky/7528106311.html', 'https://killeen.craigslist.org/pet/d/killeen-meet-buttons/7528079305.html', 'https://killeen.craigslist.org/pet/d/killeen-year-old-great-dane/7527997936.html', 'https://sanantonio.craigslist.org/pet/d/san-antonio-rehoming-two-pups/7527799094.html', 'https://sanantonio.craigslist.org/pet/d/san-antonio-lemon-beagle/7527774065.html', 'https://sanantonio.craigslist.org/pet/d/san-antonio-shih-tzu-yorkie-mix/7527764736.html', 'https://sanantonio.craigslist.org/pet/d/san-antonio-male-husky/7515874699.html', 'https://sanantonio.craigslist.org/pet/d/san-antonio-rehoming-10-month-old-great/7527662304.html', 'https://sanantonio.craigslist.org/pet/d/san-antonio-oes-bobtail/7527500858.html', 'https://collegestation.craigslist.org/pet/d/washington-lionhead-pet-rabbit-needs/7516034973.html', 'https://sanantonio.craigslist.org/pet/d/san-antonio-lab-pups-need-home/7527284359.html', 'https://waco.craigslist.org/pet/d/callaway-green-cheek-sun-conure/7527276838.html', 'https://waco.craigslist.org/pet/d/callaway-green-cheek-sun-conure/7527276778.html', 'https://waco.craigslist.org/pet/d/callaway-green-cheek-sun-conure/7527276721.html', 'https://waco.craigslist.org/pet/d/callaway-green-cheek-sun-conure/7527276664.html', 'https://sanantonio.craigslist.org/pet/d/new-braunfels-long-hair-syrian-hamsters/7527202084.html', 'https://sanantonio.craigslist.org/pet/d/san-antonio-loving-dog-needs-home/7518904863.html', 'https://sanantonio.craigslist.org/pet/d/roma-german-short-hair-pointer/7526057066.html', 'https://sanmarcos.craigslist.org/pet/d/new-braunfels-akc-make-frenchie/7526986310.html', 'https://killeen.craigslist.org/pet/d/killeen-scarlett-macaw-for-rehome/7516232073.html', 'https://sanantonio.craigslist.org/pet/d/san-antonio-male-boxer-puppy-weeks/7526861740.html', 'https://killeen.craigslist.org/pet/d/gatesville-rehoming-12-week-old-rot-pit/7526734241.html', 'https://sanmarcos.craigslist.org/pet/d/san-marcos-frenchie-french-bulldog/7526585365.html', 'https://collegestation.craigslist.org/pet/d/jewett-rehoming-large-dogs/7525429311.html', 'https://sanmarcos.craigslist.org/pet/d/new-braunfels-rehoming-blue-heeler-for/7526289945.html', 'https://sanantonio.craigslist.org/pet/d/canyon-lake-rehoming-great-dane-puppies/7526286643.html', 'https://sanantonio.craigslist.org/pet/d/san-antonio-akc-male-australian-shepard/7526232020.html', 'https://sanantonio.craigslist.org/pet/d/san-antonio-chihuahuas/7525959879.html', 'https://sanantonio.craigslist.org/pet/d/new-braunfels-female-chocolate-oab/7525816573.html', 'https://sanantonio.craigslist.org/pet/d/san-antonio-english-bulldog-merle/7525795145.html', 'https://killeen.craigslist.org/pet/d/harker-heights-rehoming-chesapeake-bay/7525749544.html', 'https://waco.craigslist.org/pet/d/hillsboro-rehoming-sheep-borrego/7525494953.html', 'https://killeen.craigslist.org/pet/d/evant-mini-donkeys/7525490390.html', 'https://sanantonio.craigslist.org/pet/d/new-braunfels-nigerian-dwarf-goats/7525480213.html', 'https://sanantonio.craigslist.org/pet/d/san-antonio-german-shepherd-female/7525329751.html', 'https://sanantonio.craigslist.org/pet/d/san-antonio-baby-quaker/7525286773.html', 'https://sanantonio.craigslist.org/pet/d/san-antonio-puppy-rehoming/7525211825.html', 'https://waco.craigslist.org/pet/d/china-spring-daschund-puppyy/7524739861.html', 'https://sanantonio.craigslist.org/pet/d/boerne-english-bulldog-rehoming/7524728386.html', 'https://waco.craigslist.org/pet/d/hillsboro-golden-male-neuter/7524374899.html', 'https://sanantonio.craigslist.org/pet/d/jbsa-lackland-puppy-needs-home/7524372746.html', 'https://sanantonio.craigslist.org/pet/d/bandera-found-dog-need-to-rehome/7515469640.html', 'https://sanantonio.craigslist.org/pet/d/san-marcos-labradoodle/7524261767.html', 'https://killeen.craigslist.org/pet/d/harker-heights-rehoming-dog/7524241576.html', 'https://sanantonio.craigslist.org/pet/d/san-antonio-visual-fluffy-french-bulldog/7524085871.html', 'https://victoriatx.craigslist.org/pet/d/victoria-remhoming-shih-tzu/7524048308.html', 'https://sanantonio.craigslist.org/pet/d/san-antonio-pitbull-puppies/7524015602.html', 'https://sanantonio.craigslist.org/pet/d/fredericksburg-gsp/7524010730.html', 'https://killeen.craigslist.org/pet/d/pendleton-rehoming-bantam-roosters/7523754262.html', 'https://sanantonio.craigslist.org/pet/d/san-antonio-rehoming-f1b-labradoodle/7523413815.html', 'https://sanantonio.craigslist.org/pet/d/cibolo-pitskys-20/7523337886.html', 'https://sanantonio.craigslist.org/pet/d/san-antonio-25-pound-chihuahua-terrier/7523279330.html']\n"
     ]
    }
   ],
   "source": [
    "print(urls)"
   ]
  },
  {
   "cell_type": "code",
   "execution_count": 509,
   "metadata": {},
   "outputs": [],
   "source": [
    "# Scrape the Title\n",
    "#titles = html_soup.find_all('a',class_=\"result-title hdrlnk\")\n",
    "#for title in titles:\n",
    "   # print(title.text)\n"
   ]
  },
  {
   "cell_type": "code",
   "execution_count": 510,
   "metadata": {},
   "outputs": [],
   "source": [
    "# <a class= \"result-image gallery\" to scrape only ones that have image\n"
   ]
  }
 ],
 "metadata": {
  "interpreter": {
   "hash": "fd763a098ed74b26fb54d2d4ddbf58343cd57368ad26feccf1d53a420650659f"
  },
  "kernelspec": {
   "display_name": "Python 3.7.11 ('mlenv')",
   "language": "python",
   "name": "python3"
  },
  "language_info": {
   "codemirror_mode": {
    "name": "ipython",
    "version": 3
   },
   "file_extension": ".py",
   "mimetype": "text/x-python",
   "name": "python",
   "nbconvert_exporter": "python",
   "pygments_lexer": "ipython3",
   "version": "3.7.11"
  },
  "orig_nbformat": 4
 },
 "nbformat": 4,
 "nbformat_minor": 2
}
